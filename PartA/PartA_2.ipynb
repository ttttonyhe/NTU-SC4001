{
 "cells": [
  {
   "cell_type": "markdown",
   "id": "c5cb62ac-8e88-43e6-bce9-da20fabf38ff",
   "metadata": {
    "deletable": false,
    "editable": false,
    "id": "c5cb62ac-8e88-43e6-bce9-da20fabf38ff",
    "nbgrader": {
     "cell_type": "markdown",
     "checksum": "3c7e82aadc4d77a8b23f7f880449f9e3",
     "grade": false,
     "grade_id": "a2",
     "locked": true,
     "schema_version": 3,
     "solution": false,
     "task": false
    },
    "tags": []
   },
   "source": [
    "# Question A2 (10 marks)"
   ]
  },
  {
   "cell_type": "markdown",
   "id": "26b4ac2a-d56e-4151-8e0a-4a833cbc643e",
   "metadata": {
    "deletable": false,
    "editable": false,
    "id": "26b4ac2a-d56e-4151-8e0a-4a833cbc643e",
    "nbgrader": {
     "cell_type": "markdown",
     "checksum": "eb28aa752ce5540f5b18d10694b52ea9",
     "grade": false,
     "grade_id": "a22",
     "locked": true,
     "schema_version": 3,
     "solution": false,
     "task": false
    },
    "tags": []
   },
   "source": [
    "### In this question, we will determine the optimal batch size for mini-batch gradient descent. Find the optimal batch size for mini-batch gradient descent by training the neural network and evaluating the performances for different batch sizes. Note: Use 5-fold cross-validation on training partition to perform hyperparameter selection. You will have to reconsider the scaling of the dataset during the 5-fold cross validation.\n",
    "\n",
    "* note: some cells are non-editable and cannot be filled, but leave them untouched. Fill up only cells which are provided."
   ]
  },
  {
   "cell_type": "markdown",
   "id": "fb9411ad-2324-400e-852e-ff5c0ca716f0",
   "metadata": {
    "deletable": false,
    "editable": false,
    "id": "fb9411ad-2324-400e-852e-ff5c0ca716f0",
    "nbgrader": {
     "cell_type": "markdown",
     "checksum": "aceec82011f43733c0551ca196f1b16c",
     "grade": false,
     "grade_id": "a2_1",
     "locked": true,
     "schema_version": 3,
     "solution": false,
     "task": false
    },
    "tags": []
   },
   "source": [
    "#### Plot mean cross-validation accuracies on the final epoch for different batch sizes as a scatter plot. Limit search space to batch sizes {128, 256, 512, 1024}. Next, create a table of time taken to train the network on the last epoch against different batch sizes. Finally, select the optimal batch size and state a reason for your selection.\n",
    "\n",
    "This might take a while to run, so plan your time carefully."
   ]
  },
  {
   "cell_type": "code",
   "execution_count": 1,
   "id": "b0edc610-21e6-4cc7-9603-59318b961990",
   "metadata": {
    "deletable": false,
    "editable": false,
    "id": "b0edc610-21e6-4cc7-9603-59318b961990",
    "nbgrader": {
     "cell_type": "code",
     "checksum": "909acb3c7ff3883eb5381eb586615d3b",
     "grade": false,
     "grade_id": "libraries",
     "locked": true,
     "schema_version": 3,
     "solution": false,
     "task": false
    },
    "tags": []
   },
   "outputs": [],
   "source": [
    "import tqdm\n",
    "import time\n",
    "import random\n",
    "import numpy as np\n",
    "import pandas as pd\n",
    "import matplotlib.pyplot as plt\n",
    "\n",
    "import torch\n",
    "from torch import nn\n",
    "from torch.utils.data import Dataset\n",
    "from torch.utils.data import DataLoader\n",
    "\n",
    "from scipy.io import wavfile as wav\n",
    "\n",
    "from sklearn import preprocessing\n",
    "from sklearn.model_selection import KFold\n",
    "from sklearn.model_selection import train_test_split\n",
    "from sklearn.metrics import f1_score, precision_score, recall_score, confusion_matrix\n",
    "\n",
    "from common_utils import set_seed\n",
    "\n",
    "# setting seed\n",
    "seed = 69\n",
    "set_seed(seed)\n"
   ]
  },
  {
   "cell_type": "markdown",
   "id": "e8e12861-4713-4914-9f4b-8a7381708243",
   "metadata": {
    "deletable": false,
    "editable": false,
    "id": "e8e12861-4713-4914-9f4b-8a7381708243",
    "nbgrader": {
     "cell_type": "markdown",
     "checksum": "ed97d9f30da032a5e349047c614efec1",
     "grade": false,
     "grade_id": "a2_1_2",
     "locked": true,
     "schema_version": 3,
     "solution": false,
     "task": false
    },
    "tags": []
   },
   "source": [
    "2. To reduce repeated code, place your\n",
    "\n",
    "- network (MLP defined in QA1)\n",
    "- torch datasets (CustomDataset defined in QA1)\n",
    "- loss function (loss_fn defined in QA1)\n",
    "\n",
    "in a separate file called **common_utils.py**\n",
    "\n",
    "Import them into this file. You will not be repenalised for any error in QA1 here as the code in QA1 will not be remarked.\n",
    "\n",
    "The following code cell will not be marked."
   ]
  },
  {
   "cell_type": "code",
   "execution_count": 2,
   "id": "37a1a982-de85-46de-b890-3b81f79f5887",
   "metadata": {
    "deletable": false,
    "id": "37a1a982-de85-46de-b890-3b81f79f5887",
    "nbgrader": {
     "cell_type": "code",
     "checksum": "9db3ca972642b1447dba3ebd5f2db24b",
     "grade": false,
     "grade_id": "import",
     "locked": false,
     "schema_version": 3,
     "solution": true,
     "task": false
    },
    "tags": []
   },
   "outputs": [],
   "source": [
    "from common_utils import MLP, CustomDataset, loss_fn\n"
   ]
  },
  {
   "cell_type": "code",
   "execution_count": null,
   "id": "5aa562e7-23c3-4920-ae63-4563bf30e39d",
   "metadata": {
    "deletable": false,
    "editable": false,
    "id": "5aa562e7-23c3-4920-ae63-4563bf30e39d",
    "nbgrader": {
     "cell_type": "code",
     "checksum": "ae6b33318200b4bc38d431576963edb1",
     "grade": true,
     "grade_id": "correct_import",
     "locked": true,
     "points": 0,
     "schema_version": 3,
     "solution": false,
     "task": false
    },
    "tags": []
   },
   "outputs": [],
   "source": []
  },
  {
   "cell_type": "markdown",
   "id": "82ea67d6-1eb4-428d-9407-9d988e927ff6",
   "metadata": {
    "deletable": false,
    "editable": false,
    "id": "82ea67d6-1eb4-428d-9407-9d988e927ff6",
    "nbgrader": {
     "cell_type": "markdown",
     "checksum": "c738d3b4888de90dda8c532036bc5fe5",
     "grade": false,
     "grade_id": "a2_1_3",
     "locked": true,
     "schema_version": 3,
     "solution": false,
     "task": false
    },
    "tags": []
   },
   "source": [
    "3. Define different folds for different batch sizes to get a dictionary of training and validation datasets. Preprocess your datasets accordingly."
   ]
  },
  {
   "cell_type": "code",
   "execution_count": 3,
   "id": "deab683a-2c9e-4e62-823a-e8b4a186bda8",
   "metadata": {
    "deletable": false,
    "id": "deab683a-2c9e-4e62-823a-e8b4a186bda8",
    "nbgrader": {
     "cell_type": "code",
     "checksum": "d02dac62baa528c191eb4f47b2495406",
     "grade": false,
     "grade_id": "dataset",
     "locked": false,
     "schema_version": 3,
     "solution": true,
     "task": false
    },
    "tags": []
   },
   "outputs": [],
   "source": [
    "from common_utils import preprocess_dataset\n",
    "\n",
    "no_folds = 5\n",
    "\n",
    "def generate_cv_folds_for_batch_sizes(parameters, X_train, y_train):\n",
    "    \"\"\"\n",
    "    returns:\n",
    "    X_train_scaled_dict(dict) where X_train_scaled_dict[batch_size] is a list of the preprocessed training matrix for the different folds.\n",
    "    X_val_scaled_dict(dict) where X_val_scaled_dict[batch_size] is a list of the processed validation matrix for the different folds.\n",
    "    y_train_dict(dict) where y_train_dict[batch_size] is a list of labels for the different folds\n",
    "    y_val_dict(dict) where y_val_dict[batch_size] is a list of labels for the different folds\n",
    "    \"\"\"\n",
    "\n",
    "    kf = KFold(n_splits=no_folds, shuffle=True, random_state=seed)\n",
    "\n",
    "    X_train_scaled_dict = {}\n",
    "    y_train_dict = {}\n",
    "    X_val_scaled_dict = {}\n",
    "    y_val_dict = {}\n",
    "\n",
    "    for batch_size in parameters:\n",
    "        X_train_list = []\n",
    "        y_train_list = []\n",
    "        X_val_list = []\n",
    "        y_val_list = []\n",
    "\n",
    "        for _exp, (train_index, val_index) in enumerate(kf.split(X_train)):\n",
    "            X_train_folds, y_train_folds = X_train[train_index], y_train[train_index]\n",
    "            X_val_folds, y_val_folds = X_train[val_index], y_train[val_index]\n",
    "\n",
    "            X_train_folds_scaled, X_val_folds_scaled = preprocess_dataset(\n",
    "                X_train_folds, X_val_folds\n",
    "            )\n",
    "            X_train_list.append(X_train_folds_scaled)\n",
    "            y_train_list.append(y_train_folds)\n",
    "            X_val_list.append(X_val_folds_scaled)\n",
    "            y_val_list.append(y_val_folds)\n",
    "\n",
    "        X_train_scaled_dict[batch_size] = X_train_list\n",
    "        y_train_dict[batch_size] = y_train_list\n",
    "        X_val_scaled_dict[batch_size] = X_val_list\n",
    "        y_val_dict[batch_size] = y_val_list\n",
    "\n",
    "    return X_train_scaled_dict, X_val_scaled_dict, y_train_dict, y_val_dict\n",
    "\n",
    "\n",
    "df = pd.read_csv(\"simplified.csv\")\n",
    "df[\"label\"] = df[\"filename\"].str.split(\"_\").str[-2]\n",
    "label_encoder = preprocessing.LabelEncoder()\n",
    "df[\"label\"] = label_encoder.fit_transform(df[\"label\"])\n",
    "X_train = df.drop([\"filename\", \"label\"], axis=1)\n",
    "y_train = df[\"label\"].to_numpy()\n",
    "\n",
    "batch_sizes = [128, 256, 512, 1024]\n",
    "(\n",
    "    X_train_scaled_dict,\n",
    "    X_val_scaled_dict,\n",
    "    y_train_dict,\n",
    "    y_val_dict,\n",
    ") = generate_cv_folds_for_batch_sizes(batch_sizes, X_train.to_numpy(), y_train)\n"
   ]
  },
  {
   "cell_type": "code",
   "execution_count": null,
   "id": "235ca332-9676-42bd-9801-0f5f4157a777",
   "metadata": {
    "deletable": false,
    "editable": false,
    "id": "235ca332-9676-42bd-9801-0f5f4157a777",
    "nbgrader": {
     "cell_type": "code",
     "checksum": "4ae5f281cd84f4d36f81f2ae126cf915",
     "grade": true,
     "grade_id": "correct_dataset",
     "locked": true,
     "points": 1,
     "schema_version": 3,
     "solution": false,
     "task": false
    },
    "tags": []
   },
   "outputs": [],
   "source": []
  },
  {
   "cell_type": "code",
   "execution_count": null,
   "id": "8df744af-f485-4871-9e0a-70fd41d1df4d",
   "metadata": {
    "deletable": false,
    "editable": false,
    "id": "8df744af-f485-4871-9e0a-70fd41d1df4d",
    "nbgrader": {
     "cell_type": "code",
     "checksum": "4dcf6be1ad49306172e6f27243e613f2",
     "grade": true,
     "grade_id": "correct_dataset2",
     "locked": true,
     "points": 1,
     "schema_version": 3,
     "solution": false,
     "task": false
    },
    "tags": []
   },
   "outputs": [],
   "source": []
  },
  {
   "cell_type": "markdown",
   "id": "558aa470-6d7e-454c-9cda-9ad881d58c53",
   "metadata": {
    "deletable": false,
    "editable": false,
    "id": "558aa470-6d7e-454c-9cda-9ad881d58c53",
    "nbgrader": {
     "cell_type": "markdown",
     "checksum": "064d68c9708b5e3f1e2463001b6d78b4",
     "grade": false,
     "grade_id": "a2_1_4",
     "locked": true,
     "schema_version": 3,
     "solution": false,
     "task": false
    },
    "tags": []
   },
   "source": [
    "4. Perform hyperparameter tuning for the different batch sizes with 5-fold cross validation."
   ]
  },
  {
   "cell_type": "code",
   "execution_count": 4,
   "id": "3107ebe9-d121-4510-9782-2a62d32258d0",
   "metadata": {
    "deletable": false,
    "id": "3107ebe9-d121-4510-9782-2a62d32258d0",
    "nbgrader": {
     "cell_type": "code",
     "checksum": "e9665887943f38ae7bed6c1d8351903b",
     "grade": true,
     "grade_id": "hyperparameter_tuning",
     "locked": false,
     "points": 4,
     "schema_version": 3,
     "solution": true,
     "task": false
    },
    "tags": []
   },
   "outputs": [
    {
     "name": "stdout",
     "output_type": "stream",
     "text": [
      "Batch size 128:\n",
      "Experiment 1: Final_val_accuracies: 72.01%, Final_train_time_taken: 0.325291s\n",
      "Experiment 2: Final_val_accuracies: 80.39%, Final_train_time_taken: 0.306397s\n",
      "Experiment 3: Final_val_accuracies: 81.54%, Final_train_time_taken: 0.304806s\n",
      "Experiment 4: Final_val_accuracies: 84.20%, Final_train_time_taken: 0.310043s\n",
      "Experiment 5: Final_val_accuracies: 85.15%, Final_train_time_taken: 0.310087s\n",
      "Done! Mean val accuracy: 80.66%, Mean time taken to train: 0.311325s\n",
      "Batch size 256:\n",
      "Experiment 1: Final_val_accuracies: 70.15%, Final_train_time_taken: 0.233298s\n",
      "Experiment 2: Final_val_accuracies: 78.44%, Final_train_time_taken: 0.229075s\n",
      "Experiment 3: Final_val_accuracies: 79.97%, Final_train_time_taken: 0.230036s\n",
      "Experiment 4: Final_val_accuracies: 79.93%, Final_train_time_taken: 0.248763s\n",
      "Experiment 5: Final_val_accuracies: 82.46%, Final_train_time_taken: 0.247051s\n",
      "Done! Mean val accuracy: 78.19%, Mean time taken to train: 0.237645s\n",
      "Batch size 512:\n",
      "Experiment 1: Final_val_accuracies: 70.19%, Final_train_time_taken: 0.182865s\n",
      "Experiment 2: Final_val_accuracies: 77.78%, Final_train_time_taken: 0.185973s\n",
      "Experiment 3: Final_val_accuracies: 79.76%, Final_train_time_taken: 0.185643s\n",
      "Experiment 4: Final_val_accuracies: 82.50%, Final_train_time_taken: 0.181722s\n",
      "Experiment 5: Final_val_accuracies: 81.79%, Final_train_time_taken: 0.178932s\n",
      "Done! Mean val accuracy: 78.40%, Mean time taken to train: 0.183027s\n",
      "Batch size 1024:\n",
      "Experiment 1: Final_val_accuracies: 64.22%, Final_train_time_taken: 0.169332s\n",
      "Experiment 2: Final_val_accuracies: 69.65%, Final_train_time_taken: 0.161987s\n",
      "Experiment 3: Final_val_accuracies: 75.49%, Final_train_time_taken: 0.168969s\n",
      "Experiment 4: Final_val_accuracies: 77.48%, Final_train_time_taken: 0.149904s\n",
      "Experiment 5: Final_val_accuracies: 77.69%, Final_train_time_taken: 0.244452s\n",
      "Done! Mean val accuracy: 72.90%, Mean time taken to train: 0.178929s\n"
     ]
    }
   ],
   "source": [
    "from common_utils import EarlyStopper, train_loop, test_loop as val_loop\n",
    "\n",
    "batch_sizes = [128, 256, 512, 1024]\n",
    "learning_rate = 0.001\n",
    "max_epochs = 100\n",
    "patience = 3\n",
    "\n",
    "\n",
    "def find_optimal_hyperparameter(\n",
    "    X_train_scaled_dict,\n",
    "    X_val_scaled_dict,\n",
    "    y_train_dict,\n",
    "    y_val_dict,\n",
    "    batch_sizes,\n",
    "    _hyperparameter=\"batch_size\",\n",
    "):\n",
    "    cv_accuracies = []\n",
    "    cv_times = []\n",
    "\n",
    "    for batch_size in batch_sizes:\n",
    "        final_val_accuracies = []\n",
    "        final_train_times = []\n",
    "\n",
    "        print(f\"Batch size {batch_size}:\")\n",
    "\n",
    "        model = MLP(no_features=77, no_hidden=128, no_labels=1)\n",
    "        optimizer = torch.optim.Adam(model.parameters(), learning_rate)\n",
    "        early_stopper = EarlyStopper(patience)\n",
    "\n",
    "        for exp in range(no_folds):\n",
    "            X_train_folds = X_train_scaled_dict[batch_size][exp]\n",
    "            y_train_folds = y_train_dict[batch_size][exp]\n",
    "            X_val_folds = X_val_scaled_dict[batch_size][exp]\n",
    "            y_val_folds = y_val_dict[batch_size][exp]\n",
    "\n",
    "            training_data = CustomDataset(X_train_folds, y_train_folds)\n",
    "            validation_data = CustomDataset(X_val_folds, y_val_folds)\n",
    "            train_dataloader = DataLoader(\n",
    "                training_data, batch_size=batch_size, shuffle=True\n",
    "            )\n",
    "            val_dataloader = DataLoader(\n",
    "                validation_data, batch_size=batch_size, shuffle=True\n",
    "            )\n",
    "\n",
    "            final_val_accuracy = 0.0\n",
    "            final_train_time_taken = 0.0\n",
    "\n",
    "            for _epoch in range(max_epochs):\n",
    "                train_start_time = time.time()\n",
    "                _train_loss, _train_accuracy = train_loop(\n",
    "                    train_dataloader, model, loss_fn, optimizer\n",
    "                )\n",
    "                train_end_time = time.time()\n",
    "                final_train_time_taken = train_end_time - train_start_time\n",
    "\n",
    "                val_loss, val_accuracy = val_loop(val_dataloader, model, loss_fn)\n",
    "                final_val_accuracy = val_accuracy\n",
    "\n",
    "                if early_stopper.early_stop(val_loss):\n",
    "                    break\n",
    "\n",
    "            final_val_accuracies.append(final_val_accuracy)\n",
    "            final_train_times.append(final_train_time_taken)\n",
    "\n",
    "            print(\n",
    "                f\"Experiment {exp + 1}: Final_val_accuracies: {(100*final_val_accuracy):>0.2f}%, Final_train_time_taken: {final_train_time_taken:>8f}s\"\n",
    "            )\n",
    "\n",
    "        mean_cv_accuracy = np.mean(np.array(final_val_accuracies), axis=0)\n",
    "        mean_train_time = np.mean(np.array(final_train_times), axis=0)\n",
    "        cv_accuracies.append(mean_cv_accuracy)\n",
    "        cv_times.append(mean_train_time)\n",
    "\n",
    "        print(\n",
    "            f\"Done! Mean val accuracy: {(100*mean_cv_accuracy):>0.2f}%, Mean time taken to train: {mean_train_time:>8f}s\"\n",
    "        )\n",
    "\n",
    "    return cv_accuracies, cv_times\n",
    "\n",
    "\n",
    "cross_validation_accuracies, cross_validation_times = find_optimal_hyperparameter(\n",
    "    X_train_scaled_dict,\n",
    "    X_val_scaled_dict,\n",
    "    y_train_dict,\n",
    "    y_val_dict,\n",
    "    batch_sizes,\n",
    "    \"batch_size\",\n",
    ")\n"
   ]
  },
  {
   "cell_type": "code",
   "execution_count": null,
   "id": "64384c9c-ddd5-4460-bf37-b9977443a65c",
   "metadata": {
    "deletable": false,
    "editable": false,
    "id": "64384c9c-ddd5-4460-bf37-b9977443a65c",
    "nbgrader": {
     "cell_type": "code",
     "checksum": "975e552e751c4efb2cec0eac214f85cd",
     "grade": true,
     "grade_id": "correct_hyperparameter_tuning",
     "locked": true,
     "points": 1,
     "schema_version": 3,
     "solution": false,
     "task": false
    },
    "tags": []
   },
   "outputs": [],
   "source": []
  },
  {
   "cell_type": "markdown",
   "id": "b6756ab6-92e0-4a5e-b4b9-aebe009f5480",
   "metadata": {
    "deletable": false,
    "editable": false,
    "id": "b6756ab6-92e0-4a5e-b4b9-aebe009f5480",
    "nbgrader": {
     "cell_type": "markdown",
     "checksum": "69421943e22521de848bb03a50f57767",
     "grade": false,
     "grade_id": "a2_1_5",
     "locked": true,
     "schema_version": 3,
     "solution": false,
     "task": false
    },
    "tags": []
   },
   "source": [
    "5. Plot scatterplot of mean cross validation accuracies for the different batch sizes."
   ]
  },
  {
   "cell_type": "code",
   "execution_count": 5,
   "id": "8fa3afdf-eed6-47b9-9acc-bc2304c46ec3",
   "metadata": {
    "deletable": false,
    "id": "8fa3afdf-eed6-47b9-9acc-bc2304c46ec3",
    "nbgrader": {
     "cell_type": "code",
     "checksum": "17599eb29fd6e3a1e2812f0ff7cba983",
     "grade": true,
     "grade_id": "plot",
     "locked": false,
     "points": 1,
     "schema_version": 3,
     "solution": true,
     "task": false
    },
    "tags": []
   },
   "outputs": [
    {
     "data": {
      "image/png": "[encoded data removed]",
      "text/plain": [
       "<Figure size 640x480 with 1 Axes>"
      ]
     },
     "metadata": {},
     "output_type": "display_data"
    }
   ],
   "source": [
    "plt.figure(1)\n",
    "plt.plot(batch_sizes, cross_validation_accuracies, marker=\"x\", linestyle=\"None\")\n",
    "plt.xticks(batch_sizes)\n",
    "plt.xlabel(\"batch size\")\n",
    "plt.ylabel(\"mean cross validation accuracy\")\n",
    "plt.show()\n"
   ]
  },
  {
   "cell_type": "markdown",
   "id": "baab6e4d-4e8b-4358-a68d-682f60db4a06",
   "metadata": {
    "deletable": false,
    "editable": false,
    "id": "baab6e4d-4e8b-4358-a68d-682f60db4a06",
    "nbgrader": {
     "cell_type": "markdown",
     "checksum": "11e8d298b5774c4044f1c3f950c46214",
     "grade": false,
     "grade_id": "a2_1_6",
     "locked": true,
     "schema_version": 3,
     "solution": false,
     "task": false
    },
    "tags": []
   },
   "source": [
    "6. Create a table of time taken to train the network on the last epoch against different batch sizes. Select the optimal batch size and state a reason for your selection."
   ]
  },
  {
   "cell_type": "code",
   "execution_count": 6,
   "id": "081aa567-cd92-4749-93fd-fc6608a1f6ae",
   "metadata": {
    "deletable": false,
    "id": "081aa567-cd92-4749-93fd-fc6608a1f6ae",
    "nbgrader": {
     "cell_type": "code",
     "checksum": "c18e30a9850c282ad725336848222a62",
     "grade": false,
     "grade_id": "times",
     "locked": false,
     "schema_version": 3,
     "solution": true,
     "task": false
    },
    "tags": []
   },
   "outputs": [
    {
     "data": {
      "text/html": [
       "<div>\n",
       "<style scoped>\n",
       "    .dataframe tbody tr th:only-of-type {\n",
       "        vertical-align: middle;\n",
       "    }\n",
       "\n",
       "    .dataframe tbody tr th {\n",
       "        vertical-align: top;\n",
       "    }\n",
       "\n",
       "    .dataframe thead th {\n",
       "        text-align: right;\n",
       "    }\n",
       "</style>\n",
       "<table border=\"1\" class=\"dataframe\">\n",
       "  <thead>\n",
       "    <tr style=\"text-align: right;\">\n",
       "      <th></th>\n",
       "      <th>Batch Size</th>\n",
       "      <th>Last Epoch Time</th>\n",
       "    </tr>\n",
       "  </thead>\n",
       "  <tbody>\n",
       "    <tr>\n",
       "      <th>0</th>\n",
       "      <td>128</td>\n",
       "      <td>0.311325</td>\n",
       "    </tr>\n",
       "    <tr>\n",
       "      <th>1</th>\n",
       "      <td>256</td>\n",
       "      <td>0.237645</td>\n",
       "    </tr>\n",
       "    <tr>\n",
       "      <th>2</th>\n",
       "      <td>512</td>\n",
       "      <td>0.183027</td>\n",
       "    </tr>\n",
       "    <tr>\n",
       "      <th>3</th>\n",
       "      <td>1024</td>\n",
       "      <td>0.178929</td>\n",
       "    </tr>\n",
       "  </tbody>\n",
       "</table>\n",
       "</div>"
      ],
      "text/plain": [
       "   Batch Size  Last Epoch Time\n",
       "0         128         0.311325\n",
       "1         256         0.237645\n",
       "2         512         0.183027\n",
       "3        1024         0.178929"
      ]
     },
     "execution_count": 6,
     "metadata": {},
     "output_type": "execute_result"
    }
   ],
   "source": [
    "df = pd.DataFrame(\n",
    "    {\n",
    "        \"Batch Size\": batch_sizes,\n",
    "        \"Last Epoch Time\": cross_validation_times,\n",
    "    }\n",
    ")\n",
    "\n",
    "df\n"
   ]
  },
  {
   "cell_type": "code",
   "execution_count": null,
   "id": "1c83d786-706b-46d2-9220-3b09e4c473b3",
   "metadata": {
    "deletable": false,
    "editable": false,
    "id": "1c83d786-706b-46d2-9220-3b09e4c473b3",
    "nbgrader": {
     "cell_type": "code",
     "checksum": "a2fc4a52c2a0af7ea586ea85cec9b3e9",
     "grade": true,
     "grade_id": "correct_times",
     "locked": true,
     "points": 1,
     "schema_version": 3,
     "solution": false,
     "task": false
    },
    "tags": []
   },
   "outputs": [],
   "source": []
  },
  {
   "cell_type": "code",
   "execution_count": 7,
   "id": "d46dfd1c-1d3c-46e4-98d6-21c2672ad31b",
   "metadata": {
    "deletable": false,
    "id": "d46dfd1c-1d3c-46e4-98d6-21c2672ad31b",
    "nbgrader": {
     "cell_type": "code",
     "checksum": "38690f32ec506325fc73c8353b77d041",
     "grade": false,
     "grade_id": "batch_size",
     "locked": false,
     "schema_version": 3,
     "solution": true,
     "task": false
    },
    "tags": []
   },
   "outputs": [],
   "source": [
    "optimal_batch_size = 128\n",
    "reason = \"It has the highest mean cross-validation accuracy. While it takes longer to train, its obvious advantage over the next best alternative (batch size = 512) in terms of accuracy outweighs the slight disadvantage of longer training time.\"\n"
   ]
  },
  {
   "cell_type": "code",
   "execution_count": null,
   "id": "096ff7b5-6a77-47d4-941e-37bc495b6558",
   "metadata": {
    "deletable": false,
    "editable": false,
    "id": "096ff7b5-6a77-47d4-941e-37bc495b6558",
    "nbgrader": {
     "cell_type": "code",
     "checksum": "f695b961ed43ec6a31b7647e078fd8d6",
     "grade": true,
     "grade_id": "correct_batch_size",
     "locked": true,
     "points": 1,
     "schema_version": 3,
     "solution": false,
     "task": false
    },
    "tags": []
   },
   "outputs": [],
   "source": []
  }
 ],
 "metadata": {
  "colab": {
   "provenance": []
  },
  "kernelspec": {
   "display_name": "Python 3 (ipykernel)",
   "language": "python",
   "name": "python3"
  },
  "language_info": {
   "codemirror_mode": {
    "name": "ipython",
    "version": 3
   },
   "file_extension": ".py",
   "mimetype": "text/x-python",
   "name": "python",
   "nbconvert_exporter": "python",
   "pygments_lexer": "ipython3",
   "version": "3.11.6"
  }
 },
 "nbformat": 4,
 "nbformat_minor": 5
}
