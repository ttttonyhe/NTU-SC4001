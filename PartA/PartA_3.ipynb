{
 "cells": [
  {
   "cell_type": "markdown",
   "id": "c5cb62ac-8e88-43e6-bce9-da20fabf38ff",
   "metadata": {
    "deletable": false,
    "editable": false,
    "id": "c5cb62ac-8e88-43e6-bce9-da20fabf38ff",
    "nbgrader": {
     "cell_type": "markdown",
     "checksum": "7e726e0bc51bda6101498fa65e298d55",
     "grade": false,
     "grade_id": "cell-a5df181492bc4d5b",
     "locked": true,
     "schema_version": 3,
     "solution": false,
     "task": false
    }
   },
   "source": [
    "# Question A3"
   ]
  },
  {
   "cell_type": "markdown",
   "id": "5c8f824c",
   "metadata": {
    "deletable": false,
    "editable": false,
    "id": "5c8f824c",
    "nbgrader": {
     "cell_type": "markdown",
     "checksum": "8de5fc7baf0dbbe0ae44ff5e2f33d3e2",
     "grade": false,
     "grade_id": "cell-742f6ec36e67f66e",
     "locked": true,
     "schema_version": 3,
     "solution": false,
     "task": false
    }
   },
   "source": [
    "Find the optimal number of hidden neurons for first hidden layer of the 4-layer network (3 hidden layers, output layer) designed in Question 1 and 2"
   ]
  },
  {
   "cell_type": "markdown",
   "id": "fb9411ad-2324-400e-852e-ff5c0ca716f0",
   "metadata": {
    "deletable": false,
    "editable": false,
    "id": "fb9411ad-2324-400e-852e-ff5c0ca716f0",
    "nbgrader": {
     "cell_type": "markdown",
     "checksum": "c699e75b7edb52e94f6605279070c695",
     "grade": false,
     "grade_id": "cell-e96803fd0366edd9",
     "locked": true,
     "schema_version": 3,
     "solution": false,
     "task": false
    },
    "tags": []
   },
   "source": [
    "#### Plot the mean cross-validation accuracies on the final epoch for different numbers of hidden-layer neurons using a scatter plot. Limit the search space of the number of neurons to {64, 128, 256}. Continue using 5-fold cross validation on training dataset. Select the optimal number of neurons for the hidden layer. State the rationale for your selection.\n",
    "\n",
    "This might take a while to run, approximately 20 - 30 min, so plan your time carefully."
   ]
  },
  {
   "cell_type": "markdown",
   "id": "981c85ca-9a14-4d0a-b44d-814f02c0f8e1",
   "metadata": {
    "deletable": false,
    "editable": false,
    "id": "981c85ca-9a14-4d0a-b44d-814f02c0f8e1",
    "nbgrader": {
     "cell_type": "markdown",
     "checksum": "227f476ef461a471ef38af7d3f6715f8",
     "grade": false,
     "grade_id": "cell-808458412f82c806",
     "locked": true,
     "schema_version": 3,
     "solution": false,
     "task": false
    }
   },
   "source": [
    "1. Firstly, we import relevant libraries."
   ]
  },
  {
   "cell_type": "code",
   "execution_count": 1,
   "id": "b0edc610-21e6-4cc7-9603-59318b961990",
   "metadata": {
    "deletable": false,
    "editable": false,
    "id": "b0edc610-21e6-4cc7-9603-59318b961990",
    "nbgrader": {
     "cell_type": "code",
     "checksum": "04b3385379104c8466a67ea59116fe58",
     "grade": false,
     "grade_id": "cell-03d073049be6df79",
     "locked": true,
     "schema_version": 3,
     "solution": false,
     "task": false
    },
    "tags": []
   },
   "outputs": [],
   "source": [
    "import tqdm\n",
    "import time\n",
    "import random\n",
    "import numpy as np\n",
    "import pandas as pd\n",
    "import matplotlib.pyplot as plt\n",
    "\n",
    "import torch\n",
    "from torch import nn\n",
    "from torch.utils.data import Dataset\n",
    "from torch.utils.data import DataLoader\n",
    "\n",
    "from scipy.io import wavfile as wav\n",
    "\n",
    "from sklearn import preprocessing\n",
    "from sklearn.model_selection import KFold\n",
    "from sklearn.model_selection import train_test_split\n",
    "from sklearn.metrics import f1_score, precision_score, recall_score, confusion_matrix\n",
    "from common_utils import set_seed\n",
    "\n",
    "# setting seed\n",
    "seed = 69\n",
    "set_seed(seed)\n"
   ]
  },
  {
   "cell_type": "markdown",
   "id": "e8e12861-4713-4914-9f4b-8a7381708243",
   "metadata": {
    "deletable": false,
    "editable": false,
    "id": "e8e12861-4713-4914-9f4b-8a7381708243",
    "nbgrader": {
     "cell_type": "markdown",
     "checksum": "1203c0efa2d363ccc72779a7511ed5b5",
     "grade": false,
     "grade_id": "cell-647b74152d4edf45",
     "locked": true,
     "schema_version": 3,
     "solution": false,
     "task": false
    }
   },
   "source": [
    "2. To reduce repeated code, place your\n",
    "\n",
    "- network (MLP defined in QA1)\n",
    "- torch datasets (CustomDataset defined in QA1)\n",
    "- loss function (loss_fn defined in QA1)\n",
    "\n",
    "in a separate file called **common_utils.py**\n",
    "\n",
    "Import them into this file. You will not be repenalised for any error in QA1 here as the code in QA1 will not be remarked.\n",
    "\n",
    "The following code cell will not be marked."
   ]
  },
  {
   "cell_type": "code",
   "execution_count": 2,
   "id": "37a1a982-de85-46de-b890-3b81f79f5887",
   "metadata": {
    "deletable": false,
    "id": "37a1a982-de85-46de-b890-3b81f79f5887",
    "nbgrader": {
     "cell_type": "code",
     "checksum": "52ed938922eb6062a33a7d047d8fc605",
     "grade": false,
     "grade_id": "import",
     "locked": false,
     "schema_version": 3,
     "solution": true,
     "task": false
    },
    "tags": []
   },
   "outputs": [],
   "source": [
    "from common_utils import (\n",
    "    CustomDataset,\n",
    "    loss_fn,\n",
    "    generate_cv_folds_for_batch_sizes,\n",
    "    split_dataset,\n",
    "    preprocess_dataset,\n",
    ")\n",
    "\n",
    "dropout_rate = 0.2\n",
    "test_size = 0.3\n",
    "\n",
    "\n",
    "class MLP(nn.Module):\n",
    "    def __init__(self, no_features, no_first_hidden, no_hidden, no_labels):\n",
    "        super().__init__()\n",
    "        self.mlp_stack = nn.Sequential(\n",
    "            nn.Linear(no_features, no_first_hidden),\n",
    "            nn.ReLU(),\n",
    "            nn.Dropout(dropout_rate),\n",
    "            nn.Linear(no_first_hidden, no_hidden),\n",
    "            nn.ReLU(),\n",
    "            nn.Dropout(dropout_rate),\n",
    "            nn.Linear(no_hidden, no_hidden),\n",
    "            nn.ReLU(),\n",
    "            nn.Dropout(dropout_rate),\n",
    "            nn.Linear(no_hidden, no_labels),\n",
    "            nn.Sigmoid(),\n",
    "        )\n",
    "\n",
    "    def forward(self, x):\n",
    "        logits = self.mlp_stack(x)\n",
    "        return logits\n",
    "\n",
    "\n",
    "df = pd.read_csv(\"simplified.csv\")\n",
    "df[\"label\"] = df[\"filename\"].str.split(\"_\").str[-2]\n",
    "X_train, y_train, X_test, y_test = split_dataset(\n",
    "    df, [\"filename\", \"label\"], test_size, seed\n",
    ")\n",
    "X_train_scaled, X_test_scaled = preprocess_dataset(X_train, X_test)\n"
   ]
  },
  {
   "cell_type": "code",
   "execution_count": null,
   "id": "88f0e215-033b-4720-89f8-64f96574ebe2",
   "metadata": {
    "deletable": false,
    "editable": false,
    "id": "88f0e215-033b-4720-89f8-64f96574ebe2",
    "nbgrader": {
     "cell_type": "code",
     "checksum": "ae6b33318200b4bc38d431576963edb1",
     "grade": true,
     "grade_id": "correct_import",
     "locked": true,
     "points": 0,
     "schema_version": 3,
     "solution": false,
     "task": false
    },
    "tags": []
   },
   "outputs": [],
   "source": []
  },
  {
   "cell_type": "markdown",
   "id": "558aa470-6d7e-454c-9cda-9ad881d58c53",
   "metadata": {
    "deletable": false,
    "editable": false,
    "id": "558aa470-6d7e-454c-9cda-9ad881d58c53",
    "nbgrader": {
     "cell_type": "markdown",
     "checksum": "79004bd568c9f48abd1cf359cd050ab5",
     "grade": false,
     "grade_id": "cell-10b7165b0a25758f",
     "locked": true,
     "schema_version": 3,
     "solution": false,
     "task": false
    }
   },
   "source": [
    "3. Perform hyperparameter tuning for the different neurons with 5-fold cross validation."
   ]
  },
  {
   "cell_type": "code",
   "execution_count": 3,
   "id": "8c77bd18-c546-473e-8c2f-643b4281d9ba",
   "metadata": {
    "deletable": false,
    "id": "8c77bd18-c546-473e-8c2f-643b4281d9ba",
    "nbgrader": {
     "cell_type": "code",
     "checksum": "c610a779f6858f6c77f3fc6beb198dcd",
     "grade": true,
     "grade_id": "train",
     "locked": false,
     "points": 2,
     "schema_version": 3,
     "solution": true,
     "task": false
    },
    "tags": []
   },
   "outputs": [],
   "source": [
    "from common_utils import train_loop, test_loop, test_loop as val_loop, EarlyStopper\n",
    "\n",
    "no_folds = 5\n",
    "max_epochs = 100\n",
    "patience = 3\n",
    "learning_rate = 0.001\n",
    "\n",
    "\n",
    "def train(model, X_train_scaled, y_train2, X_val_scaled, y_val2, batch_size):\n",
    "    final_val_accuracies = []\n",
    "\n",
    "    optimizer = torch.optim.Adam(model.parameters(), learning_rate)\n",
    "    early_stopper = EarlyStopper(patience)\n",
    "\n",
    "    for exp in range(no_folds):\n",
    "        X_train_folds = X_train_scaled[exp]\n",
    "        y_train_folds = y_train2[exp]\n",
    "        X_val_folds = X_val_scaled[exp]\n",
    "        y_val_folds = y_val2[exp]\n",
    "\n",
    "        training_data = CustomDataset(X_train_folds, y_train_folds)\n",
    "        validation_data = CustomDataset(X_val_folds, y_val_folds)\n",
    "        train_dataloader = DataLoader(\n",
    "            training_data, batch_size=batch_size, shuffle=True\n",
    "        )\n",
    "        val_dataloader = DataLoader(\n",
    "            validation_data, batch_size=batch_size, shuffle=True\n",
    "        )\n",
    "\n",
    "        final_val_accuracy = 0.0\n",
    "\n",
    "        for _epoch in range(max_epochs):\n",
    "            train_loop(train_dataloader, model, loss_fn, optimizer)\n",
    "\n",
    "            val_loss, val_accuracy = val_loop(val_dataloader, model, loss_fn)\n",
    "            final_val_accuracy = val_accuracy\n",
    "\n",
    "            if early_stopper.early_stop(val_loss):\n",
    "                break\n",
    "\n",
    "        final_val_accuracies.append(final_val_accuracy)\n",
    "\n",
    "        print(\n",
    "            f\"Experiment {exp + 1}: Final_val_accuracy: {(100*final_val_accuracy):>0.2f}%\"\n",
    "        )\n",
    "\n",
    "    mean_cv_accuracy = np.mean(np.array(final_val_accuracies), axis=0)\n",
    "\n",
    "    print(f\"Done! Mean_cv_accuracy: {(100*mean_cv_accuracy):>0.2f}%\")\n",
    "\n",
    "    return mean_cv_accuracy\n"
   ]
  },
  {
   "cell_type": "code",
   "execution_count": 4,
   "id": "d13d1ff1-7242-4c3f-bcf2-c92fe0c723db",
   "metadata": {
    "deletable": false,
    "id": "d13d1ff1-7242-4c3f-bcf2-c92fe0c723db",
    "nbgrader": {
     "cell_type": "code",
     "checksum": "ec4e70e2dfdc84af8c83bc858117af1f",
     "grade": true,
     "grade_id": "hyperparameter_tuning",
     "locked": false,
     "points": 2,
     "schema_version": 3,
     "solution": true,
     "task": false
    },
    "tags": []
   },
   "outputs": [
    {
     "name": "stdout",
     "output_type": "stream",
     "text": [
      "Number of neurons 64:\n",
      "Experiment 1: Final_val_accuracy: 66.77%\n",
      "Experiment 2: Final_val_accuracy: 72.39%\n",
      "Experiment 3: Final_val_accuracy: 72.93%\n",
      "Experiment 4: Final_val_accuracy: 73.22%\n",
      "Experiment 5: Final_val_accuracy: 75.70%\n",
      "Done! Mean_cv_accuracy: 72.20%\n",
      "Number of neurons 128:\n",
      "Experiment 1: Final_val_accuracy: 68.54%\n",
      "Experiment 2: Final_val_accuracy: 78.02%\n",
      "Experiment 3: Final_val_accuracy: 81.87%\n",
      "Experiment 4: Final_val_accuracy: 82.64%\n",
      "Experiment 5: Final_val_accuracy: 85.71%\n",
      "Done! Mean_cv_accuracy: 79.36%\n",
      "Number of neurons 256:\n",
      "Experiment 1: Final_val_accuracy: 69.31%\n",
      "Experiment 2: Final_val_accuracy: 80.86%\n",
      "Experiment 3: Final_val_accuracy: 82.58%\n",
      "Experiment 4: Final_val_accuracy: 84.60%\n",
      "Experiment 5: Final_val_accuracy: 87.02%\n",
      "Done! Mean_cv_accuracy: 80.88%\n"
     ]
    }
   ],
   "source": [
    "optimal_bs = 128\n",
    "num_neurons = [64, 128, 256]\n",
    "\n",
    "\n",
    "def find_optimal_hyperparameter(X_train, y_train, parameters, _mode, batch_size):\n",
    "    cv_accuracies = []\n",
    "\n",
    "    for num_neurons_ in parameters:\n",
    "        print(f\"Number of neurons {num_neurons_}:\")\n",
    "\n",
    "        (\n",
    "            X_train_scaled_dict,\n",
    "            X_val_scaled_dict,\n",
    "            y_train_dict,\n",
    "            y_val_dict,\n",
    "        ) = generate_cv_folds_for_batch_sizes([batch_size], X_train, y_train)\n",
    "        model = MLP(\n",
    "            no_features=77, no_first_hidden=num_neurons_, no_hidden=128, no_labels=1\n",
    "        )\n",
    "\n",
    "        mean_cv_accuracy = train(\n",
    "            model,\n",
    "            X_train_scaled_dict[batch_size],\n",
    "            y_train_dict[batch_size],\n",
    "            X_val_scaled_dict[batch_size],\n",
    "            y_val_dict[batch_size],\n",
    "            batch_size,\n",
    "        )\n",
    "\n",
    "        cv_accuracies.append(mean_cv_accuracy)\n",
    "\n",
    "    return cv_accuracies, []\n",
    "\n",
    "\n",
    "cross_validation_accuracies, cross_validation_times = find_optimal_hyperparameter(\n",
    "    X_train.to_numpy(), y_train, num_neurons, \"num_neurons\", optimal_bs\n",
    ")\n"
   ]
  },
  {
   "cell_type": "code",
   "execution_count": null,
   "id": "13b4cce9-3a65-47fa-9b34-44b75de57dff",
   "metadata": {
    "deletable": false,
    "editable": false,
    "id": "13b4cce9-3a65-47fa-9b34-44b75de57dff",
    "nbgrader": {
     "cell_type": "code",
     "checksum": "975e552e751c4efb2cec0eac214f85cd",
     "grade": true,
     "grade_id": "correct_hyperparameter_tuning",
     "locked": true,
     "points": 1,
     "schema_version": 3,
     "solution": false,
     "task": false
    },
    "tags": []
   },
   "outputs": [],
   "source": []
  },
  {
   "cell_type": "markdown",
   "id": "b6756ab6-92e0-4a5e-b4b9-aebe009f5480",
   "metadata": {
    "deletable": false,
    "editable": false,
    "id": "b6756ab6-92e0-4a5e-b4b9-aebe009f5480",
    "nbgrader": {
     "cell_type": "markdown",
     "checksum": "0de56ab3a8b732e3ada17c55bc90a3cf",
     "grade": false,
     "grade_id": "cell-d0eceff23b1291e2",
     "locked": true,
     "schema_version": 3,
     "solution": false,
     "task": false
    }
   },
   "source": [
    "4. Plot the cross-validation accuracies against the number of epochs for different numbers of hidden-layer neurons. Limit the search space of the number of neurons to {64, 128, 256}."
   ]
  },
  {
   "cell_type": "code",
   "execution_count": 5,
   "id": "8fa3afdf-eed6-47b9-9acc-bc2304c46ec3",
   "metadata": {
    "deletable": false,
    "id": "8fa3afdf-eed6-47b9-9acc-bc2304c46ec3",
    "nbgrader": {
     "cell_type": "code",
     "checksum": "25582e96a2b85a5ce6e0cf48a58064bd",
     "grade": true,
     "grade_id": "cell-plot",
     "locked": false,
     "points": 2,
     "schema_version": 3,
     "solution": true,
     "task": false
    },
    "tags": []
   },
   "outputs": [
    {
     "data": {
      "image/png": "[encoded data removed]",
      "text/plain": [
       "<Figure size 640x480 with 1 Axes>"
      ]
     },
     "metadata": {},
     "output_type": "display_data"
    }
   ],
   "source": [
    "plt.figure(1)\n",
    "plt.plot(num_neurons, cross_validation_accuracies, marker=\"x\", linestyle=\"None\")\n",
    "plt.xticks(num_neurons)\n",
    "plt.xlabel(\"number of neurons of 1st hidden layer\")\n",
    "plt.ylabel(\"mean cross validation accuracy\")\n",
    "plt.show()\n",
    "\n"
   ]
  },
  {
   "cell_type": "markdown",
   "id": "baab6e4d-4e8b-4358-a68d-682f60db4a06",
   "metadata": {
    "deletable": false,
    "editable": false,
    "id": "baab6e4d-4e8b-4358-a68d-682f60db4a06",
    "nbgrader": {
     "cell_type": "markdown",
     "checksum": "2024917155ea0cc8755c69415b4956cf",
     "grade": false,
     "grade_id": "part-1-3",
     "locked": true,
     "schema_version": 3,
     "solution": false,
     "task": false
    }
   },
   "source": [
    "5. Select the optimal number of neurons for the hidden layer. State the rationale for your selection."
   ]
  },
  {
   "cell_type": "code",
   "execution_count": 6,
   "id": "3e45a22d-9f20-441b-986b-dca35083abc3",
   "metadata": {
    "deletable": false,
    "id": "3e45a22d-9f20-441b-986b-dca35083abc3",
    "nbgrader": {
     "cell_type": "code",
     "checksum": "a8f1233c3ecacc38527a60e87185938b",
     "grade": false,
     "grade_id": "reason",
     "locked": false,
     "schema_version": 3,
     "solution": true,
     "task": false
    }
   },
   "outputs": [],
   "source": [
    "optimal_neurons = 256\n",
    "reason = \"Highest mean cross validation accuracy\"\n"
   ]
  },
  {
   "cell_type": "code",
   "execution_count": null,
   "id": "e9a76852-5fd9-48e6-b6ee-d0b9277340fa",
   "metadata": {
    "deletable": false,
    "editable": false,
    "id": "e9a76852-5fd9-48e6-b6ee-d0b9277340fa",
    "nbgrader": {
     "cell_type": "code",
     "checksum": "d8632aa5f8381d571f8992f3196e7aab",
     "grade": true,
     "grade_id": "reason1",
     "locked": true,
     "points": 1,
     "schema_version": 3,
     "solution": false,
     "task": false
    }
   },
   "outputs": [],
   "source": []
  },
  {
   "cell_type": "markdown",
   "id": "ebf2dc5e-91d5-49dc-a05f-b9318f3371a7",
   "metadata": {
    "deletable": false,
    "editable": false,
    "id": "ebf2dc5e-91d5-49dc-a05f-b9318f3371a7",
    "nbgrader": {
     "cell_type": "markdown",
     "checksum": "4c609ceb4ecc2dac0684b1da17f44daa",
     "grade": false,
     "grade_id": "cell-302503e166f647c9",
     "locked": true,
     "schema_version": 3,
     "solution": false,
     "task": false
    }
   },
   "source": [
    "6. Plot the train and test accuracies against training epochs with the optimal number of neurons using a line plot."
   ]
  },
  {
   "cell_type": "code",
   "execution_count": 7,
   "id": "081aa567-cd92-4749-93fd-fc6608a1f6ae",
   "metadata": {
    "deletable": false,
    "id": "081aa567-cd92-4749-93fd-fc6608a1f6ae",
    "nbgrader": {
     "cell_type": "code",
     "checksum": "2776dd57325ada98de4534313e894572",
     "grade": true,
     "grade_id": "figure",
     "locked": false,
     "points": 2,
     "schema_version": 3,
     "solution": true,
     "task": false
    },
    "tags": []
   },
   "outputs": [
    {
     "name": "stdout",
     "output_type": "stream",
     "text": [
      "Epoch 1: Train_accuracy: 54.37%, Test_accuracy: 57.05%, Test_loss: 0.005443\n",
      "Epoch 2: Train_accuracy: 59.38%, Test_accuracy: 58.84%, Test_loss: 0.005298\n",
      "Epoch 3: Train_accuracy: 61.14%, Test_accuracy: 62.77%, Test_loss: 0.005222\n",
      "Epoch 4: Train_accuracy: 64.33%, Test_accuracy: 62.94%, Test_loss: 0.005100\n",
      "Epoch 5: Train_accuracy: 66.19%, Test_accuracy: 65.40%, Test_loss: 0.004984\n",
      "Epoch 6: Train_accuracy: 68.18%, Test_accuracy: 65.31%, Test_loss: 0.005003\n",
      "Epoch 7: Train_accuracy: 69.96%, Test_accuracy: 66.58%, Test_loss: 0.004904\n",
      "Epoch 8: Train_accuracy: 71.51%, Test_accuracy: 67.19%, Test_loss: 0.004881\n",
      "Epoch 9: Train_accuracy: 73.34%, Test_accuracy: 68.41%, Test_loss: 0.004860\n",
      "Epoch 10: Train_accuracy: 75.49%, Test_accuracy: 68.63%, Test_loss: 0.004777\n",
      "Epoch 11: Train_accuracy: 75.58%, Test_accuracy: 69.54%, Test_loss: 0.004709\n",
      "Epoch 12: Train_accuracy: 76.74%, Test_accuracy: 69.13%, Test_loss: 0.004719\n",
      "Epoch 13: Train_accuracy: 78.75%, Test_accuracy: 69.65%, Test_loss: 0.004905\n",
      "Epoch 14: Train_accuracy: 79.41%, Test_accuracy: 70.40%, Test_loss: 0.004728\n",
      "Done!\n"
     ]
    },
    {
     "data": {
      "image/png": "[encoded data removed]",
      "text/plain": [
       "<Figure size 640x480 with 1 Axes>"
      ]
     },
     "metadata": {},
     "output_type": "display_data"
    }
   ],
   "source": [
    "import matplotlib.pyplot as plt\n",
    "\n",
    "training_data = CustomDataset(X_train_scaled, y_train)\n",
    "testing_data = CustomDataset(X_test_scaled, y_test)\n",
    "train_dataloader = DataLoader(training_data, batch_size=optimal_bs, shuffle=True)\n",
    "test_dataloader = DataLoader(testing_data, batch_size=optimal_bs, shuffle=True)\n",
    "\n",
    "train_accuracies = []\n",
    "test_accuracies = []\n",
    "\n",
    "model = MLP(no_features=77, no_first_hidden=optimal_neurons, no_hidden=128, no_labels=1)\n",
    "optimizer = torch.optim.Adam(model.parameters(), learning_rate)\n",
    "early_stopper = EarlyStopper(patience)\n",
    "\n",
    "for epoch in range(max_epochs):\n",
    "    _train_loss, train_correct = train_loop(train_dataloader, model, loss_fn, optimizer)\n",
    "    test_loss, test_correct = test_loop(test_dataloader, model, loss_fn)\n",
    "\n",
    "    train_accuracies.append(train_correct)\n",
    "    test_accuracies.append(test_correct)\n",
    "\n",
    "    print(\n",
    "        f\"Epoch {epoch+1}: Train_accuracy: {(100*train_correct):>0.2f}%, Test_accuracy: {(100*test_correct):>0.2f}%, Test_loss: {test_loss:>8f}\"\n",
    "    )\n",
    "\n",
    "    if early_stopper.early_stop(test_loss):\n",
    "        print(\"Done!\")\n",
    "        break\n",
    "\n",
    "torch.save(model, 'model.pth')\n",
    "\n",
    "acc_fig = plt.figure(2)\n",
    "plt.plot(\n",
    "    range(1, len(train_accuracies) + 1), train_accuracies, label=\"Training Accuracy\"\n",
    ")\n",
    "plt.plot(range(1, len(test_accuracies) + 1), test_accuracies, label=\"Testing Accuracy\")\n",
    "plt.xlabel(\"epochs\")\n",
    "plt.ylabel(\"accuracy\")\n",
    "plt.legend()\n",
    "plt.show()\n"
   ]
  },
  {
   "cell_type": "code",
   "execution_count": null,
   "id": "244efa9d",
   "metadata": {},
   "outputs": [],
   "source": []
  }
 ],
 "metadata": {
  "colab": {
   "provenance": []
  },
  "kernelspec": {
   "display_name": "Python 3 (ipykernel)",
   "language": "python",
   "name": "python3"
  },
  "language_info": {
   "codemirror_mode": {
    "name": "ipython",
    "version": 3
   },
   "file_extension": ".py",
   "mimetype": "text/x-python",
   "name": "python",
   "nbconvert_exporter": "python",
   "pygments_lexer": "ipython3",
   "version": "3.11.6"
  }
 },
 "nbformat": 4,
 "nbformat_minor": 5
}
